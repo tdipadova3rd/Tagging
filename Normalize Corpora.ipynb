{
 "cells": [
  {
   "cell_type": "markdown",
   "metadata": {},
   "source": [
    "# Normalize Corpora"
   ]
  },
  {
   "cell_type": "markdown",
   "metadata": {},
   "source": [
    "Convert the tags in the English and German corpora to the same IOB format as the Spanish corpus."
   ]
  },
  {
   "cell_type": "code",
   "execution_count": 20,
   "metadata": {},
   "outputs": [],
   "source": [
    "def normalize(original_file, output_file):\n",
    "    with open(original_file, 'r') as rfp:\n",
    "        with open(output_file, 'w') as wfp:\n",
    "            lines = rfp.readlines()\n",
    "            for i in range(len(lines)):\n",
    "                split_line = lines[i].split()          \n",
    "                if i > 0:\n",
    "                    last_line = lines[i-1].split()\n",
    "                    if len(split_line) > 0 and split_line[-1][0] == 'I':\n",
    "                        if len(last_line) > 0 and last_line[-1][0] not in 'BI':\n",
    "                            for j in range(len(split_line)-1):\n",
    "                                wfp.write(split_line[j] + ' ')\n",
    "                            wfp.write('B' + split_line[-1][1:] + '\\n')\n",
    "                        elif len(last_line) == 0:\n",
    "                            for j in range(len(split_line)-1):\n",
    "                                wfp.write(split_line[j] + ' ')\n",
    "                            wfp.write('B' + split_line[-1][1:] + '\\n')\n",
    "                        else:\n",
    "                            wfp.write(lines[i])\n",
    "                    else:\n",
    "                        wfp.write(lines[i])\n",
    "                else:\n",
    "                    wfp.write(lines[i])\n"
   ]
  },
  {
   "cell_type": "code",
   "execution_count": 22,
   "metadata": {},
   "outputs": [],
   "source": [
    "normalize('data/original.eng.testa.txt', 'data/eng.testa.txt')\n",
    "normalize('data/original.eng.testb.txt', 'data/eng.testb.txt')\n",
    "normalize('data/original.eng.train.txt', 'data/eng.train.txt')\n",
    "\n",
    "normalize('data/original.deu.testa.txt', 'data/deu.testa.txt')\n",
    "normalize('data/original.deu.testb.txt', 'data/deu.testb.txt')\n",
    "normalize('data/original.deu.train.txt', 'data/deu.train.txt')\n"
   ]
  },
  {
   "cell_type": "code",
   "execution_count": null,
   "metadata": {},
   "outputs": [],
   "source": []
  }
 ],
 "metadata": {
  "kernelspec": {
   "display_name": "Python 3",
   "language": "python",
   "name": "python3"
  },
  "language_info": {
   "codemirror_mode": {
    "name": "ipython",
    "version": 3
   },
   "file_extension": ".py",
   "mimetype": "text/x-python",
   "name": "python",
   "nbconvert_exporter": "python",
   "pygments_lexer": "ipython3",
   "version": "3.6.5"
  }
 },
 "nbformat": 4,
 "nbformat_minor": 2
}
