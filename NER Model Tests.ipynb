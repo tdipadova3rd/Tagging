{
 "cells": [
  {
   "cell_type": "markdown",
   "metadata": {},
   "source": [
    "# NER Model"
   ]
  },
  {
   "cell_type": "markdown",
   "metadata": {},
   "source": [
    "#### Imports"
   ]
  },
  {
   "cell_type": "code",
   "execution_count": 1,
   "metadata": {
    "scrolled": true
   },
   "outputs": [
    {
     "name": "stderr",
     "output_type": "stream",
     "text": [
      "Using TensorFlow backend.\n"
     ]
    }
   ],
   "source": [
    "from gensim.models import KeyedVectors\n",
    "from nltk.corpus.reader.conll import ConllCorpusReader\n",
    "import nltk\n",
    "from nltk import conlltags2tree\n",
    "from IPython.display import display\n",
    "import re\n",
    "from math import floor\n",
    "import numpy as np\n",
    "import sys\n",
    "import pandas as pd\n",
    "import itertools\n",
    "import matplotlib.pyplot as plt\n",
    "from keras.layers.recurrent import LSTM\n",
    "from keras.models import Sequential, Model, load_model\n",
    "from keras.layers import Dense, Bidirectional, Flatten, Dropout, TimeDistributed\n",
    "from keras.wrappers.scikit_learn import KerasClassifier\n",
    "from keras.layers.normalization import BatchNormalization\n",
    "from keras.utils import to_categorical\n",
    "import keras.backend as K\n",
    "from keras_contrib.layers import CRF\n",
    "from keras_contrib.utils import save_load_utils\n",
    "from sklearn.model_selection import KFold, StratifiedKFold, cross_val_score, train_test_split\n",
    "from sklearn.metrics import confusion_matrix, f1_score, precision_score, recall_score"
   ]
  },
  {
   "cell_type": "markdown",
   "metadata": {},
   "source": [
    "#### Variables"
   ]
  },
  {
   "cell_type": "code",
   "execution_count": 2,
   "metadata": {},
   "outputs": [],
   "source": [
    "max_length = 70\n",
    "num_features = 300"
   ]
  },
  {
   "cell_type": "markdown",
   "metadata": {},
   "source": [
    "### Feature Extraction"
   ]
  },
  {
   "cell_type": "code",
   "execution_count": 3,
   "metadata": {},
   "outputs": [],
   "source": [
    "def get_padded_sentence_features(sentences, num_features, max_length, wv):\n",
    "    features = np.empty((0, max_length, num_features))\n",
    "    for i in range(len(sentences)):\n",
    "        if i % 100 == 0:\n",
    "            print(\"Processed\", i, \"of\", len(sentences))\n",
    "        sent = sentences[i]\n",
    "        new_sent = []\n",
    "        for j in range(max_length):\n",
    "            if 0 <= j < len(sent):\n",
    "                this_word = sent[j]\n",
    "                if this_word in wv.vocab:\n",
    "                    new_sent.append(wv.get_vector(this_word))\n",
    "                elif this_word == '':\n",
    "                    new_sent.append(np.zeros(num_features))\n",
    "                else:\n",
    "                    new_sent.append(np.random.uniform(-0.25,0.25, num_features))  # random vector for unknown\n",
    "            else:\n",
    "                new_sent.append(np.zeros(num_features))\n",
    "\n",
    "        feature_stack = np.dstack([[new_sent]])\n",
    "        features = np.vstack([features, feature_stack])\n",
    "        \n",
    "    return features"
   ]
  },
  {
   "cell_type": "markdown",
   "metadata": {},
   "source": [
    "### Data Cleaning"
   ]
  },
  {
   "cell_type": "code",
   "execution_count": 4,
   "metadata": {},
   "outputs": [],
   "source": [
    "nums_regex = re.compile(r'0+')\n",
    "def clean_sents(sents, max_length):\n",
    "    cleaned = []\n",
    "    # remove sentences shorter than 5 words\n",
    "    for sent in sents:\n",
    "        if len(sent) > 4 and len(sent) <= max_length:\n",
    "            new_sent = []\n",
    "            # clean the words\n",
    "            for word in sent:\n",
    "                this_word = word.lower()\n",
    "                new_word = ''\n",
    "                # replace numbers with 0\n",
    "                for char in this_word:\n",
    "                    if char.isalpha():\n",
    "                        new_word = new_word + char\n",
    "                    elif char.isdigit():\n",
    "                        new_word = new_word + '0'\n",
    "                new_word = nums_regex.sub('0', new_word)\n",
    "                new_sent.append(this_word)\n",
    "            cleaned.append(new_sent)\n",
    "    return cleaned"
   ]
  },
  {
   "cell_type": "markdown",
   "metadata": {},
   "source": [
    "Helper function for getting the labels after prediction."
   ]
  },
  {
   "cell_type": "code",
   "execution_count": 5,
   "metadata": {},
   "outputs": [],
   "source": [
    "def arr2label(cats, labels):\n",
    "    new_labels = []\n",
    "    for i in range(len(cats)):\n",
    "        sent_labels = []\n",
    "        for j in range(len(cats[i])):\n",
    "            label = np.argmax(cats[i][j])\n",
    "            label = labels[label]\n",
    "            new_labels.append(label)\n",
    "    return new_labels\n"
   ]
  },
  {
   "cell_type": "markdown",
   "metadata": {},
   "source": [
    "## Load the Data"
   ]
  },
  {
   "cell_type": "markdown",
   "metadata": {},
   "source": [
    "Load the English word vectors."
   ]
  },
  {
   "cell_type": "code",
   "execution_count": 6,
   "metadata": {},
   "outputs": [],
   "source": [
    "wv = KeyedVectors.load_word2vec_format('data/wiki.multi.en.vec.txt', binary=False)"
   ]
  },
  {
   "cell_type": "markdown",
   "metadata": {},
   "source": [
    "Define class variables for label encoding and decoding."
   ]
  },
  {
   "cell_type": "code",
   "execution_count": 7,
   "metadata": {},
   "outputs": [],
   "source": [
    "classes = ['B-MISC', 'I-MISC', 'B-LOC', 'I-LOC', 'B-PER', 'I-PER', 'B-ORG', 'I-ORG', 'O']\n",
    "num_classes = len(classes)\n",
    "encoded_classes = range(num_classes)\n",
    "class2idx = {classes[enc]: enc for enc in encoded_classes}"
   ]
  },
  {
   "cell_type": "markdown",
   "metadata": {},
   "source": [
    "## Load the Model"
   ]
  },
  {
   "cell_type": "markdown",
   "metadata": {},
   "source": [
    "Redefine the model before loading it from file."
   ]
  },
  {
   "cell_type": "code",
   "execution_count": 8,
   "metadata": {},
   "outputs": [],
   "source": [
    "dropout = 0.1\n",
    "recurrent_dropout = 0.3\n",
    "hidden_nodes = 100\n",
    "window_size = 70\n",
    "\n",
    "def create_model(num_classes, num_features, hidden_nodes=100):\n",
    "    model = Sequential()\n",
    "    model.add(Bidirectional(\n",
    "        LSTM(units=num_features, return_sequences=True, dropout=dropout, recurrent_dropout=recurrent_dropout),\n",
    "        input_shape=(window_size, num_features,),\n",
    "        merge_mode='concat'))\n",
    "    model.add(TimeDistributed(Dense(hidden_nodes, activation='relu')))\n",
    "    # add a CRF layer to enforce NER IOB rules\n",
    "    crf = CRF(num_classes, sparse_target=False)\n",
    "    model.add(crf)\n",
    "    print(\"Summary:\", model.summary())\n",
    "    model.compile(optimizer='rmsprop', loss=crf.loss_function, metrics=[crf.accuracy])\n",
    "    return model"
   ]
  },
  {
   "cell_type": "markdown",
   "metadata": {},
   "source": [
    "Load the model from file."
   ]
  },
  {
   "cell_type": "code",
   "execution_count": 10,
   "metadata": {},
   "outputs": [
    {
     "name": "stdout",
     "output_type": "stream",
     "text": [
      "_________________________________________________________________\n",
      "Layer (type)                 Output Shape              Param #   \n",
      "=================================================================\n",
      "bidirectional_1 (Bidirection (None, 70, 600)           1442400   \n",
      "_________________________________________________________________\n",
      "time_distributed_1 (TimeDist (None, 70, 100)           60100     \n",
      "_________________________________________________________________\n",
      "crf_1 (CRF)                  (None, 70, 9)             1008      \n",
      "=================================================================\n",
      "Total params: 1,503,508\n",
      "Trainable params: 1,503,508\n",
      "Non-trainable params: 0\n",
      "_________________________________________________________________\n",
      "Summary: None\n"
     ]
    }
   ],
   "source": [
    "\n",
    "model = create_model(num_classes, num_features)\n",
    "save_load_utils.load_all_weights(model,'models/full_train.h5', include_optimizer=False)"
   ]
  },
  {
   "cell_type": "markdown",
   "metadata": {},
   "source": [
    "## Test the Model"
   ]
  },
  {
   "cell_type": "markdown",
   "metadata": {},
   "source": [
    "Run a test sentence."
   ]
  },
  {
   "cell_type": "code",
   "execution_count": 65,
   "metadata": {},
   "outputs": [],
   "source": [
    "test_sent = \"My name is Tony DiPadova and I study at Dartmouth College\" "
   ]
  },
  {
   "cell_type": "code",
   "execution_count": 66,
   "metadata": {},
   "outputs": [
    {
     "name": "stdout",
     "output_type": "stream",
     "text": [
      "Processed 0 of 1\n"
     ]
    }
   ],
   "source": [
    "test_sent = nltk.word_tokenize(test_sent)  # tokenize the sentence\n",
    "test = clean_sents([test_sent], max_length)\n",
    "test_X = get_padded_sentence_features(test, num_features, max_length, wv)  # process the sentence"
   ]
  },
  {
   "cell_type": "code",
   "execution_count": 67,
   "metadata": {},
   "outputs": [
    {
     "name": "stdout",
     "output_type": "stream",
     "text": [
      "[['my', 'name', 'is', 'tony', 'dipadova', 'and', 'i', 'study', 'at', 'dartmouth', 'college']]\n",
      "11\n"
     ]
    }
   ],
   "source": [
    "pred = model.predict(test_X)  # predict\n",
    "labels = arr2label(pred, classes)  # get labels\n",
    "print(test)\n",
    "print(len(test[0]))\n",
    "labels = labels[:len(test[0])]  # remove padding"
   ]
  },
  {
   "cell_type": "code",
   "execution_count": 68,
   "metadata": {},
   "outputs": [],
   "source": [
    "tags = [(test_sent[i], labels[i]) for i in range(len(test_sent))]"
   ]
  },
  {
   "cell_type": "code",
   "execution_count": 69,
   "metadata": {},
   "outputs": [
    {
     "name": "stdout",
     "output_type": "stream",
     "text": [
      "[('My', 'O'), ('name', 'O'), ('is', 'O'), ('Tony', 'B-PER'), ('DiPadova', 'I-PER'), ('and', 'O'), ('I', 'O'), ('study', 'O'), ('at', 'O'), ('Dartmouth', 'B-ORG'), ('College', 'I-ORG')]\n"
     ]
    }
   ],
   "source": [
    "print(tags)"
   ]
  },
  {
   "cell_type": "code",
   "execution_count": 70,
   "metadata": {},
   "outputs": [],
   "source": [
    "def tag2tree(tags):\n",
    "    string = '(S'\n",
    "    for i in range(len(tags)):\n",
    "        # beginning case\n",
    "        if i == 0 and tags[i][1] != 'O':\n",
    "            string += ' (' + tags[i][1][2:] + ' ' + tags[i][0]  # beginning is B-\n",
    "            if i + 1 < len(tags) and tags[i+1][1] == 'O':\n",
    "                string += ')'\n",
    "        elif tags[i][1] == 'O':\n",
    "            string += ' ' + tags[i][0]\n",
    "        else:\n",
    "            # middle cases\n",
    "            if i < len(tags) - 1:\n",
    "                if tags[i+1][1] == 'O' and tags[i][1][0] == 'I':\n",
    "                    string += ' ' + tags[i][0] + ')'\n",
    "                elif tags[i+1][1][0] == 'I' and tags[i][1][0] == 'I':\n",
    "                    string += ' ' + tags[i][0] \n",
    "                elif tags[i][1][0] == 'B' and tags[i+1][1] == 'O':\n",
    "                    string += ' (' + tags[i][1][2:] + ' ' + tags[i][0] + ')'\n",
    "                elif tags[i][1][0] == 'B' and tags[i+1][1][0] == 'I':\n",
    "                    string += ' (' + tags[i][1][2:] + ' ' + tags[i][0]\n",
    "            else:\n",
    "                # end cases\n",
    "                if tags[i][1][0] == 'B':\n",
    "                    string += ' (' + tags[i][1][2:] + ' ' + tags[i][0] + ')'\n",
    "                elif tags[i][1][0] == 'I':\n",
    "                    string += ' ' + tags[i][0] + ')'\n",
    "                \n",
    "    string += ')'\n",
    "    tree = nltk.Tree.fromstring(string)\n",
    "    return tree\n",
    "                \n",
    "    "
   ]
  },
  {
   "cell_type": "code",
   "execution_count": 71,
   "metadata": {},
   "outputs": [
    {
     "name": "stdout",
     "output_type": "stream",
     "text": [
      "(S\n",
      "  My\n",
      "  name\n",
      "  is\n",
      "  (PER Tony DiPadova)\n",
      "  and\n",
      "  I\n",
      "  study\n",
      "  at\n",
      "  (ORG Dartmouth College))\n"
     ]
    },
    {
     "data": {
      "image/png": "[encoded data removed]",
      "text/plain": [
       "Tree('S', ['My', 'name', 'is', Tree('PER', ['Tony', 'DiPadova']), 'and', 'I', 'study', 'at', Tree('ORG', ['Dartmouth', 'College'])])"
      ]
     },
     "metadata": {},
     "output_type": "display_data"
    }
   ],
   "source": [
    "tree = tag2tree(tags)\n",
    "tree.pprint()\n",
    "display(tree)"
   ]
  },
  {
   "cell_type": "code",
   "execution_count": null,
   "metadata": {},
   "outputs": [],
   "source": []
  }
 ],
 "metadata": {
  "kernelspec": {
   "display_name": "Python 3",
   "language": "python",
   "name": "python3"
  },
  "language_info": {
   "codemirror_mode": {
    "name": "ipython",
    "version": 3
   },
   "file_extension": ".py",
   "mimetype": "text/x-python",
   "name": "python",
   "nbconvert_exporter": "python",
   "pygments_lexer": "ipython3",
   "version": "3.6.5"
  }
 },
 "nbformat": 4,
 "nbformat_minor": 2
}
